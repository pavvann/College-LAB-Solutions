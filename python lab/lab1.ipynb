{
 "cells": [
  {
   "cell_type": "code",
   "execution_count": 4,
   "metadata": {},
   "outputs": [],
   "source": [
    "import math"
   ]
  },
  {
   "cell_type": "code",
   "execution_count": 5,
   "metadata": {},
   "outputs": [
    {
     "name": "stdout",
     "output_type": "stream",
     "text": [
      "\t Calculator\n"
     ]
    }
   ],
   "source": [
    "print(\"\\t Calculator\")"
   ]
  },
  {
   "cell_type": "code",
   "execution_count": 6,
   "metadata": {},
   "outputs": [],
   "source": [
    "def sum(a,b):\n",
    "    a += b\n",
    "    return a"
   ]
  },
  {
   "cell_type": "code",
   "execution_count": 7,
   "metadata": {},
   "outputs": [],
   "source": [
    "def sub(a,b):\n",
    "    if a > b:\n",
    "        a -= b\n",
    "        return a\n",
    "    else:\n",
    "        b-=a\n",
    "        return b"
   ]
  },
  {
   "cell_type": "code",
   "execution_count": 8,
   "metadata": {},
   "outputs": [],
   "source": [
    "def div(a,b):\n",
    "    q = a/b\n",
    "    r = a%b\n",
    "    print(\"\\nThe quotient is: %s\" %q)\n",
    "    print(\"\\nThe remainder is: %s\" %r)"
   ]
  },
  {
   "cell_type": "code",
   "execution_count": 23,
   "metadata": {},
   "outputs": [
    {
     "name": "stdout",
     "output_type": "stream",
     "text": [
      "1. Addition\n",
      "2. Subtraction\n",
      "3. Division\n",
      "4. Exit\n"
     ]
    }
   ],
   "source": [
    "while(1):\n",
    "    print(\"1. Addition\")\n",
    "    print(\"2. Subtraction\")\n",
    "    print(\"3. Division\")\n",
    "    print(\"4. Exit\")\n",
    "    choice = int(input(\">\"))\n",
    "    if choice == 4:\n",
    "        exit()\n",
    "        break\n",
    "    else:\n",
    "        print(\"\\nEnter the two numbers: \")\n",
    "        num1 = int(input(\"a = \"))\n",
    "        num2 = int(input(\"b = \"))\n",
    "        if choice == 1:\n",
    "            s = sum(num1,num2)\n",
    "            print(\"Answer = \", s)\n",
    "        elif choice == 2:\n",
    "            s = sub(num1,num2)\n",
    "            print(\"Answer = \" , s)\n",
    "        elif choice == 3:\n",
    "            s = div(num1,num2)\n",
    "            print(\"Answer = \" + s)\n",
    "\n"
   ]
  }
 ],
 "metadata": {
  "interpreter": {
   "hash": "aee8b7b246df8f9039afb4144a1f6fd8d2ca17a180786b69acc140d282b71a49"
  },
  "kernelspec": {
   "display_name": "Python 3.10.1 64-bit",
   "language": "python",
   "name": "python3"
  },
  "language_info": {
   "codemirror_mode": {
    "name": "ipython",
    "version": 3
   },
   "file_extension": ".py",
   "mimetype": "text/x-python",
   "name": "python",
   "nbconvert_exporter": "python",
   "pygments_lexer": "ipython3",
   "version": "3.10.1"
  },
  "orig_nbformat": 4
 },
 "nbformat": 4,
 "nbformat_minor": 2
}
